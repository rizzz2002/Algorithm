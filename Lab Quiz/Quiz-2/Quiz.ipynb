{
  "nbformat": 4,
  "nbformat_minor": 0,
  "metadata": {
    "colab": {
      "provenance": []
    },
    "kernelspec": {
      "name": "python3",
      "display_name": "Python 3"
    },
    "language_info": {
      "name": "python"
    }
  },
  "cells": [
    {
      "cell_type": "code",
      "source": [
        "#Take the input from a file \"input.txt\" and sort the list with any sorting algorithm\n",
        "#you can only sort while both index are odd or even\n",
        "#if it is not possible to sort then print \"Impossible\" on output file\n",
        "#input:                Output:\n",
        "#       5              Possible\n",
        "#       5 3 8 6 1"
      ],
      "metadata": {
        "id": "jj-6fgXFVJCO"
      },
      "execution_count": null,
      "outputs": []
    },
    {
      "cell_type": "code",
      "source": [
        "#Quiz\n",
        "file1=open(\"/content/Quiz-2/input.txt\",\"r\")\n",
        "file2=open(\"/content/Quiz-2/output.txt\",\"w\")\n",
        "length=file1.readline().strip(\"\\n\")\n",
        "lst=file1.readline().strip(\"\\n\").split(\" \")\n",
        "\n",
        "for i in range (int(length)):\n",
        "  for y in range (i,int(length),2):\n",
        "    if int(lst[i])>int(lst[y]):\n",
        "      lst[i],lst[y]=lst[y],lst[i]\n",
        "\n",
        "bul=True\n",
        "\n",
        "for t in range (int(length)-1):\n",
        "  if int(lst[t])>int(lst[t+1]):\n",
        "    bul=False\n",
        "    break\n",
        "\n",
        "if bul:\n",
        "  file2.writelines(\"Possible\")\n",
        "else:\n",
        "  file2.writelines(\"Impossible\")\n",
        "file1.close()\n",
        "file2.close()"
      ],
      "metadata": {
        "id": "E9Ox2dxBNz2f"
      },
      "execution_count": 4,
      "outputs": []
    }
  ]
}